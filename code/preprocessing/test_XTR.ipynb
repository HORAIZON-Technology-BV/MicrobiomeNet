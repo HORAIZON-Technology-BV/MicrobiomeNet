{
 "cells": [
  {
   "cell_type": "code",
   "execution_count": 1,
   "metadata": {},
   "outputs": [],
   "source": [
    "import pandas as pd\n",
    "import numpy as np\n",
    "from sklearn.model_selection import StratifiedShuffleSplit,GridSearchCV\n",
    "from sklearn.ensemble import ExtraTreesClassifier\n",
    "from sklearn.metrics import roc_curve, auc, roc_auc_score\n",
    "from tqdm import tqdm\n"
   ]
  },
  {
   "cell_type": "code",
   "execution_count": 2,
   "metadata": {},
   "outputs": [
    {
     "name": "stdout",
     "output_type": "stream",
     "text": [
      "20533\n"
     ]
    }
   ],
   "source": [
    "\n",
    "microbiome = pd.read_csv('../../data/raw/curated_metagenomics/relative_abundance.csv',index_col=0).transpose()\n",
    "metadata = pd.read_csv('../../data/raw/curated_metagenomics/metadata.csv',index_col='sample_id',low_memory=False)\n",
    "\n",
    "print(len(microbiome))\n",
    "#get stool samples\n",
    "metadata = metadata.loc[metadata.body_site == 'stool',:]\n",
    "\n",
    "#Add obesity disease tags to disease BMI\n",
    "to_change = metadata.BMI>=30\n",
    "metadata.loc[to_change,'disease'] = 'obesity'\n",
    "\n",
    "to_change = metadata.BMI<16\n",
    "metadata.loc[to_change,'disease'] = 'severe_underweight'\n",
    "\n",
    "# Remove all disease NaNs\n",
    "metadata = metadata.loc[metadata.disease==metadata.disease,:]\n",
    "\n",
    "#\n",
    "to_keep = metadata.age_category != 'newborn'\n",
    "metadata = metadata.loc[to_keep,:]\n",
    "\n",
    "# Get the overlapping set of samples between metadata and microbiome data\n",
    "overlapping_samples = list(set(metadata.index) & set(microbiome.index))\n",
    "microbiome= microbiome.loc[overlapping_samples,:]\n",
    "metadata = metadata.loc[overlapping_samples,:]\n",
    "\n",
    "# target_metadata = metadata.loc[metadata.study_name == 'YachidaS_2019',:]\n",
    "# target_microbiome = microbiome.loc[target_metadata.index,:]"
   ]
  },
  {
   "cell_type": "code",
   "execution_count": 3,
   "metadata": {},
   "outputs": [],
   "source": [
    "y = np.asarray( metadata.disease != 'healthy',dtype=int)\n",
    "feature_names = microbiome.columns"
   ]
  },
  {
   "cell_type": "code",
   "execution_count": 4,
   "metadata": {},
   "outputs": [
    {
     "data": {
      "text/plain": [
       "6521"
      ]
     },
     "execution_count": 4,
     "metadata": {},
     "output_type": "execute_result"
    }
   ],
   "source": [
    "np.sum(y)\n"
   ]
  },
  {
   "cell_type": "code",
   "execution_count": 5,
   "metadata": {},
   "outputs": [],
   "source": [
    "study_names = np.unique(metadata.study_name)"
   ]
  },
  {
   "cell_type": "code",
   "execution_count": 6,
   "metadata": {},
   "outputs": [
    {
     "name": "stdout",
     "output_type": "stream",
     "text": [
      "0.8063921327596804\n",
      "0.6087662337662337\n",
      "0.5189873417721519\n"
     ]
    }
   ],
   "source": [
    "hmp_metadata = metadata.loc[metadata.study_name == 'HMP_2019_ibdmdb',:]\n",
    "hmp_microbiome = microbiome.loc[hmp_metadata.index,:]\n",
    "y_hmp = np.asarray( hmp_metadata.disease != 'healthy',dtype=int)\n",
    "print(np.sum(y_hmp)/len(hmp_metadata))\n",
    "\n",
    "yachida_metadata = metadata.loc[metadata.study_name == 'YachidaS_2019',:]\n",
    "yachida_microbiome = microbiome.loc[yachida_metadata.index,:]\n",
    "y_yachida = np.asarray( yachida_metadata.disease != 'healthy',dtype=int)\n",
    "print(np.sum(y_yachida)/len(yachida_metadata))\n",
    "\n",
    "qin_metadata = metadata.loc[metadata.study_name == 'QinN_2014',:]\n",
    "qin_microbiome = microbiome.loc[qin_metadata.index,:]\n",
    "y_qin = np.asarray( qin_metadata.disease != 'healthy',dtype=int)\n",
    "print(np.sum(y_qin)/len(qin_metadata))"
   ]
  },
  {
   "cell_type": "code",
   "execution_count": 10,
   "metadata": {},
   "outputs": [],
   "source": [
    "studies,samples = np.unique(metadata.study_name,return_counts=True)\n",
    "\n",
    "check_arr = np.transpose(np.asarray([studies,float(samples)]))"
   ]
  }
 ],
 "metadata": {
  "kernelspec": {
   "display_name": "torch",
   "language": "python",
   "name": "python3"
  },
  "language_info": {
   "codemirror_mode": {
    "name": "ipython",
    "version": 3
   },
   "file_extension": ".py",
   "mimetype": "text/x-python",
   "name": "python",
   "nbconvert_exporter": "python",
   "pygments_lexer": "ipython3",
   "version": "3.11.0"
  },
  "orig_nbformat": 4
 },
 "nbformat": 4,
 "nbformat_minor": 2
}
