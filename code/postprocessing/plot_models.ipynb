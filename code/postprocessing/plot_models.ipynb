{
 "cells": [
  {
   "cell_type": "code",
   "execution_count": 112,
   "metadata": {},
   "outputs": [],
   "source": [
    "import pickle\n",
    "from custom_nets.resnet import ResNet, train_model, evaluate\n",
    "from torchsummary import summary\n",
    "import torch\n",
    "import pandas as pd"
   ]
  },
  {
   "cell_type": "code",
   "execution_count": 113,
   "metadata": {},
   "outputs": [],
   "source": [
    "microbiome = pd.read_csv('../../data/raw/curated_metagenomics/relative_abundance.csv',index_col=0).transpose()\n",
    "metadata = pd.read_csv('../../data/raw/curated_metagenomics/metadata.csv',index_col='sample_id',low_memory=False)\n",
    "\n",
    "# %% [markdown]\n",
    "# For this example we will try to classify disease from healthy based on microbiome. Disease is classified as diseased (according to the original data) and BMI<16 | BMI=>30. These are the boundaries of severe underweight and obesity.\n",
    "study_name = 'QinN_2014'\n",
    "\n",
    "#get stool samples\n",
    "metadata = metadata.loc[metadata.body_site == 'stool',:]\n",
    "\n",
    "#Add obesity disease tags to disease BMI\n",
    "to_change = metadata.BMI>=30\n",
    "metadata.loc[to_change,'disease'] = 'obesity'\n",
    "\n",
    "to_change = metadata.BMI<16\n",
    "metadata.loc[to_change,'disease'] = 'severe_underweight'\n",
    "\n",
    "#Add obesity disease tags to disease BMI\n",
    "metadata = metadata.loc[metadata.BMI==metadata.BMI,:]\n",
    "\n",
    "# Remove all disease NaNs\n",
    "metadata = metadata.loc[metadata.disease=='healthy',:]\n",
    "\n",
    "#\n",
    "to_keep = metadata.age_category != 'newborn'\n",
    "metadata = metadata.loc[to_keep,:]\n",
    "\n",
    "# Get the overlapping set of samples between metadata and microbiome data\n",
    "overlapping_samples = list(set(metadata.index) & set(microbiome.index))\n",
    "microbiome= microbiome.loc[overlapping_samples,:]\n",
    "metadata = metadata.loc[overlapping_samples,:]\n",
    "\n",
    "\n",
    "base_metadata = metadata.loc[metadata.study_name != study_name,:]\n",
    "base_microbiome = microbiome.loc[base_metadata.index,:]\n",
    "\n",
    "target_metadata = metadata.loc[metadata.study_name == study_name,:]\n",
    "target_microbiome = microbiome.loc[target_metadata.index,:]\n",
    "\n"
   ]
  },
  {
   "cell_type": "code",
   "execution_count": 114,
   "metadata": {},
   "outputs": [],
   "source": [
    "with open('../../data/raw/curated_metagenomics/resnet_params.pkl', 'rb') as fp:\n",
    "    params_H = pickle.load(fp)\n",
    "\n",
    "with open('../../data/raw/curated_metagenomics/resnet_params_YachidaS_2019.pkl', 'rb') as fp:\n",
    "    params_Y = pickle.load(fp)\n",
    "\n",
    "with open('../../data/raw/curated_metagenomics/resnet_params_qin.pkl', 'rb') as fp:\n",
    "    params_Q = pickle.load(fp)\n",
    "\n",
    "with open('../../data/raw/curated_metagenomics/resnet_params_all.pkl', 'rb') as fp:\n",
    "    params_all = pickle.load(fp)"
   ]
  },
  {
   "cell_type": "code",
   "execution_count": 115,
   "metadata": {},
   "outputs": [],
   "source": [
    "random = torch.zeros(size=(148,2047)).cuda()\n"
   ]
  },
  {
   "cell_type": "code",
   "execution_count": 116,
   "metadata": {},
   "outputs": [],
   "source": [
    "model = ResNet(**sublist).cuda()\n",
    "model = model.eval()"
   ]
  },
  {
   "cell_type": "code",
   "execution_count": 117,
   "metadata": {},
   "outputs": [],
   "source": [
    "def count_parameters(model):\n",
    "    return sum(p.numel() for p in model.parameters() if p.requires_grad)"
   ]
  },
  {
   "cell_type": "code",
   "execution_count": 120,
   "metadata": {},
   "outputs": [
    {
     "name": "stdout",
     "output_type": "stream",
     "text": [
      "H\n",
      "{'d_numerical': 2047, 'd': 148, 'd_hidden_factor': 1, 'n_layers': 1, 'hidden_dropout': 0.36734979065758694, 'residual_dropout': 0.37222088474141257, 'd_out': 1}\n",
      "303549\n",
      "\n",
      "\n",
      "Y\n",
      "{'d_numerical': 2047, 'd': 278, 'd_hidden_factor': 1, 'n_layers': 5, 'hidden_dropout': 0.16080099411546672, 'residual_dropout': 0.33468549816694226, 'd_out': 1}\n",
      "570179\n",
      "\n",
      "\n",
      "Q\n",
      "{'d_numerical': 2047, 'd': 65, 'd_hidden_factor': 1, 'n_layers': 1, 'hidden_dropout': 0.41919453514817584, 'residual_dropout': 0.19197424191729415, 'd_out': 1}\n",
      "133316\n",
      "\n",
      "\n",
      "all\n",
      "{'d_numerical': 2047, 'd': 97, 'd_hidden_factor': 2, 'n_layers': 1, 'hidden_dropout': 0.32422753112973324, 'residual_dropout': 0.2917433119476729, 'd_out': 1}\n",
      "198948\n",
      "\n",
      "\n"
     ]
    }
   ],
   "source": [
    "pickle_list = [params_H,\n",
    "               params_Y,\n",
    "               params_Q,\n",
    "               params_all]\n",
    "names_list = [\n",
    "    'H','Y', 'Q', 'all'\n",
    "]\n",
    "for i,sublist in enumerate(pickle_list):\n",
    "    print(names_list[i])\n",
    "    print(sublist)\n",
    "    model = ResNet(**sublist)\n",
    "    for name,param in model.named_parameters():\n",
    "        if ('head' in name) | ('last_normalization' in name) | ('first_layer' in name):\n",
    "            param.requires_grad = True\n",
    "        else:\n",
    "            param.requires_grad = False\n",
    "\n",
    "    print(count_parameters(model))\n",
    "    print('\\n')\n"
   ]
  },
  {
   "cell_type": "code",
   "execution_count": null,
   "metadata": {},
   "outputs": [],
   "source": []
  }
 ],
 "metadata": {
  "kernelspec": {
   "display_name": "algo",
   "language": "python",
   "name": "python3"
  },
  "language_info": {
   "codemirror_mode": {
    "name": "ipython",
    "version": 3
   },
   "file_extension": ".py",
   "mimetype": "text/x-python",
   "name": "python",
   "nbconvert_exporter": "python",
   "pygments_lexer": "ipython3",
   "version": "3.11.0"
  },
  "orig_nbformat": 4
 },
 "nbformat": 4,
 "nbformat_minor": 2
}
